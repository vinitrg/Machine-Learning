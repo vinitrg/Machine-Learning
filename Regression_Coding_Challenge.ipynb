{
  "nbformat": 4,
  "nbformat_minor": 0,
  "metadata": {
    "colab": {
      "name": "Regression Coding Challenge.ipynb",
      "version": "0.3.2",
      "provenance": [],
      "collapsed_sections": []
    },
    "kernelspec": {
      "name": "python3",
      "display_name": "Python 3"
    }
  },
  "cells": [
    {
      "cell_type": "markdown",
      "metadata": {
        "id": "view-in-github",
        "colab_type": "text"
      },
      "source": [
        "[View in Colaboratory](https://colab.research.google.com/github/vinitrg/Machine-Learning/blob/master/Regression_Coding_Challenge.ipynb)"
      ]
    },
    {
      "metadata": {
        "id": "26Hu16rW8wQE",
        "colab_type": "text"
      },
      "cell_type": "markdown",
      "source": [
        "# Linear Regression by Hand\n",
        "\n",
        "In this challenge we'll be doing a linear fit with just one input variable and one output. We'll assume that our data can be modeled way using the function y = ax + b for some values of a and b. Your job is to find the best values of a and b, the ones that make our model best fit the data. First, let's import the libraries we'll need."
      ]
    },
    {
      "metadata": {
        "id": "h7696CDz9tGR",
        "colab_type": "code",
        "colab": {}
      },
      "cell_type": "code",
      "source": [
        "# LAMBDA SCHOOL\n",
        "# \n",
        "# MACHINE LEARNING\n",
        "#\n",
        "# MIT LICENSE\n",
        "\n",
        "import numpy as np\n",
        "import pandas as pd\n",
        "import requests\n",
        "import io\n",
        "import matplotlib.pyplot as plt"
      ],
      "execution_count": 0,
      "outputs": []
    },
    {
      "metadata": {
        "id": "eD1cGbMs9yk5",
        "colab_type": "text"
      },
      "cell_type": "markdown",
      "source": [
        "Now let's grab the data. This is a fictional data set made for the purpose of this exercise."
      ]
    },
    {
      "metadata": {
        "id": "XnAd89f58y8W",
        "colab_type": "code",
        "colab": {}
      },
      "cell_type": "code",
      "source": [
        "url=\"https://raw.githubusercontent.com/mathewphilipc/LambdaDataSets/master/linear_data.csv\"\n",
        "s=requests.get(url).content\n",
        "data=pd.read_csv(io.StringIO(s.decode('utf-8')))"
      ],
      "execution_count": 0,
      "outputs": []
    },
    {
      "metadata": {
        "id": "0zdgNbNO88uQ",
        "colab_type": "text"
      },
      "cell_type": "markdown",
      "source": [
        "Your first job is to visit that URL and poke around in the data. However you wish to do so, store the first column as a vector x and store the second column as a vector y. We'll think of x as the input and y as the output."
      ]
    },
    {
      "metadata": {
        "id": "w8Ffm5E59Bdp",
        "colab_type": "code",
        "colab": {}
      },
      "cell_type": "code",
      "source": [
        "# You do: x and y"
      ],
      "execution_count": 0,
      "outputs": []
    },
    {
      "metadata": {
        "id": "htfp2VfW9DbZ",
        "colab_type": "text"
      },
      "cell_type": "markdown",
      "source": [
        "We also like to start by getting a sense of this data, so next let's make a scatterplot."
      ]
    },
    {
      "metadata": {
        "id": "j9GZsZnF9C4-",
        "colab_type": "code",
        "colab": {}
      },
      "cell_type": "code",
      "source": [
        "plt.scatter(x, y, alpha=0.5)"
      ],
      "execution_count": 0,
      "outputs": []
    },
    {
      "metadata": {
        "id": "ggMoG5Rl9Mt6",
        "colab_type": "text"
      },
      "cell_type": "markdown",
      "source": [
        "Now here's the fun part: whenever we model data like this using a function f(x), we like to compute the \"SSE\", or \"sum of squared errors.\"\n",
        "\n",
        "This means that, for every input number x_i, we calculate both the actual corresponding output y_i and the output the model predicts, which is f(x_i).\n",
        "\n",
        "We can quantify how badly the model did at predicting that point by calculating the square of the difference between the two: error_i = (y_i - f(x_i))^2.\n",
        "\n",
        "Then we can quantify how badly the model did at all points by computing that squared difference for every indidividual point and adding them all up. Remember bigger = worse here.\n",
        "\n",
        "Calculate the SSE (call it particular_SSE) we would get if we used the linear model f(x) = ax + b with a = 20 and b = 70."
      ]
    },
    {
      "metadata": {
        "id": "CYuLrfuZ9Oce",
        "colab_type": "code",
        "colab": {}
      },
      "cell_type": "code",
      "source": [
        "# What is SSE for a = 20, b = 70?"
      ],
      "execution_count": 0,
      "outputs": []
    },
    {
      "metadata": {
        "id": "fz0ulDtq9Xpz",
        "colab_type": "text"
      },
      "cell_type": "markdown",
      "source": [
        "Now here's the really fun part: write a function error(a,b) that takes in the numbers a and b as inputs and calculates the SSE we would get using the model f(x) = ax + b."
      ]
    },
    {
      "metadata": {
        "id": "VibdgcL_9ZOF",
        "colab_type": "code",
        "colab": {}
      },
      "cell_type": "code",
      "source": [
        "def error(a,b):\n",
        "  None # You implement"
      ],
      "execution_count": 0,
      "outputs": []
    },
    {
      "metadata": {
        "id": "dYeryMWo9d3e",
        "colab_type": "text"
      },
      "cell_type": "markdown",
      "source": [
        "Earlier we calculated error(a,b) when a = 20 and b = 70. What happens to the error if you replace that with a = 21? Does the error go up or down? What about if we replace a = 20 with a = 19 instead? What if we start tweaking b as well? However you want to do so, tweak a and b to make the SSE as small as possible. Report back with the a and b that you find and the corresponding SSE."
      ]
    },
    {
      "metadata": {
        "id": "bN7NkLKJ9ihD",
        "colab_type": "code",
        "colab": {}
      },
      "cell_type": "code",
      "source": [
        "# a, b, SSE? How'd you get it?"
      ],
      "execution_count": 0,
      "outputs": []
    }
  ]
}