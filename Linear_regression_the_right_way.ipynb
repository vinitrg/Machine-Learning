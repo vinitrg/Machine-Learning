{
  "nbformat": 4,
  "nbformat_minor": 0,
  "metadata": {
    "colab": {
      "name": "Linear regression the right way.ipynb",
      "version": "0.3.2",
      "provenance": [],
      "collapsed_sections": []
    },
    "kernelspec": {
      "name": "python3",
      "display_name": "Python 3"
    }
  },
  "cells": [
    {
      "cell_type": "markdown",
      "metadata": {
        "id": "view-in-github",
        "colab_type": "text"
      },
      "source": [
        "[View in Colaboratory](https://colab.research.google.com/github/vinitrg/Machine-Learning/blob/master/Linear_regression_the_right_way.ipynb)"
      ]
    },
    {
      "metadata": {
        "id": "-6_dbDdTee8-",
        "colab_type": "text"
      },
      "cell_type": "markdown",
      "source": [
        "In this challenge we'll be doing a linear fit with two input variables and one output, so our model looks like y ~ a + b*x_1 + c*x_2. First, let's import the libraries we'll need."
      ]
    },
    {
      "metadata": {
        "id": "OiUQbJcPewzu",
        "colab_type": "code",
        "colab": {}
      },
      "cell_type": "code",
      "source": [
        "import numpy as np\n",
        "import pandas as pd\n",
        "import requests\n",
        "import io\n",
        "import matplotlib.pyplot as plt"
      ],
      "execution_count": 0,
      "outputs": []
    },
    {
      "metadata": {
        "id": "snGZ1Y9we0WX",
        "colab_type": "text"
      },
      "cell_type": "markdown",
      "source": [
        "Now let's grab the data. This is a fictional data set made for the purpose of this exercise."
      ]
    },
    {
      "metadata": {
        "id": "vP-tW7gKexOM",
        "colab_type": "code",
        "colab": {}
      },
      "cell_type": "code",
      "source": [
        "url=\"https://raw.githubusercontent.com/mathewphilipc/LambdaDataSets/master/bivariate_linear_data.csv\"\n",
        "s=requests.get(url).content\n",
        "data=pd.read_csv(io.StringIO(s.decode('utf-8')))"
      ],
      "execution_count": 0,
      "outputs": []
    },
    {
      "metadata": {
        "id": "hEaIEqGzioMA",
        "colab_type": "text"
      },
      "cell_type": "markdown",
      "source": [
        "We're going to find the optimal [a,b, c] values the right by, using the *normal equations*. The first step is to add a new column to the left of the x1 column and set all of its values to 1. Think of this as the x0 columns. Then introduce a matrix X consisting of the x0, x1, x2 columns and and vector Y with just the y column. Do any reshaping you need to make later steps work."
      ]
    },
    {
      "metadata": {
        "id": "Cwxjiqfee4Y7",
        "colab_type": "code",
        "colab": {}
      },
      "cell_type": "code",
      "source": [
        "# replace with student code"
      ],
      "execution_count": 0,
      "outputs": []
    },
    {
      "metadata": {
        "id": "LkDRXnQhkH6t",
        "colab_type": "text"
      },
      "cell_type": "markdown",
      "source": [
        "To make sure this worked, verify that X has length 200 and width 3."
      ]
    },
    {
      "metadata": {
        "id": "1JCPhP3IjpFL",
        "colab_type": "code",
        "colab": {}
      },
      "cell_type": "code",
      "source": [
        "# replace with student code"
      ],
      "execution_count": 0,
      "outputs": []
    },
    {
      "metadata": {
        "id": "eREV4V2Tm3i-",
        "colab_type": "text"
      },
      "cell_type": "markdown",
      "source": [
        "And just for sanity' sake, print out the first row of X and compare it with the contents of the csv file we read from."
      ]
    },
    {
      "metadata": {
        "id": "3VsYTGcWl4a0",
        "colab_type": "code",
        "colab": {}
      },
      "cell_type": "code",
      "source": [
        "# replace with student code"
      ],
      "execution_count": 0,
      "outputs": []
    },
    {
      "metadata": {
        "id": "4TBuSnI-nAWs",
        "colab_type": "text"
      },
      "cell_type": "markdown",
      "source": [
        "Now here's the most important part. As it turns out, the optimal vector [a, b, c] can be calculated in a single step (assuming you have a matrix algebra library and don't have to do the operations yourself) in terms of X and Y. Here's the solution:\n",
        "\n",
        "(X^T * X)^(-1) * X^T * Y\n",
        "\n",
        "where \\* means *matrix multiplication*, ^T means *matrix transpose* and ^(-1) means *matrix inverse*. Calculate [a, b, c] and print the values of a, b, and c."
      ]
    },
    {
      "metadata": {
        "id": "SFXu_C6cl7Fh",
        "colab_type": "code",
        "colab": {}
      },
      "cell_type": "code",
      "source": [
        "# replace with student code"
      ],
      "execution_count": 0,
      "outputs": []
    },
    {
      "metadata": {
        "id": "nYaqwc2sHI_v",
        "colab_type": "text"
      },
      "cell_type": "markdown",
      "source": [
        "Finally, plot the points defined by x,y and the line that you calculated using the above matrix transforms."
      ]
    },
    {
      "metadata": {
        "id": "JUSi543Imc_c",
        "colab_type": "code",
        "colab": {}
      },
      "cell_type": "code",
      "source": [
        "# replace with student code"
      ],
      "execution_count": 0,
      "outputs": []
    }
  ]
}