{
  "nbformat": 4,
  "nbformat_minor": 0,
  "metadata": {
    "colab": {
      "name": "Statistics Coding Challenge # 2.ipynb",
      "version": "0.3.2",
      "provenance": []
    },
    "kernelspec": {
      "name": "python3",
      "display_name": "Python 3"
    }
  },
  "cells": [
    {
      "cell_type": "markdown",
      "metadata": {
        "id": "view-in-github",
        "colab_type": "text"
      },
      "source": [
        "[View in Colaboratory](https://colab.research.google.com/github/vinitrg/Machine-Learning/blob/master/Statistics_Coding_Challenge_2.ipynb)"
      ]
    },
    {
      "metadata": {
        "id": "5Df5yvC99sYU",
        "colab_type": "text"
      },
      "cell_type": "markdown",
      "source": [
        "## Coding Challenge #2\n",
        "In this coding challenge, we are going to use the \"Index, Violent, Property, and Firearm Rates By County: Beginning 1990\" data set available from the Data.Gov website (https://catalog.data.gov/dataset?groups=local&organization_type=State+Government#topic=local_navigation).\n",
        "\n",
        "There are a few objectives you need to accomplish:\n",
        "\n",
        "1) Examine the data set for any missing values. The attributes of interest are 'Violent Count', 'Property Count', and 'Population'\n",
        "\n",
        "2) If there are any missing values, replace it with the median for that specific attribute within the corresponding County.\n",
        "\n",
        "For example if the 'Violent Count' attribute for the county of Albany has missing values, then replace it with the median of the 'Violent Count' for the county of Albany\n",
        "Note: If there are no missing values, you can use the data set as is\n",
        "\n",
        "3) Construct a box plot to surface the 25%, 50% and 75% percentiles of the 'Violent Count' by County from year 1990 to 2016 - just hone in on the following three counties: Bronx, New York and Queens\n",
        "\n",
        "4) Compute the Variance and Standard Deviation of the 'Violent Count' by County from year 1990 to 2016 - just hone in on the following three counties: Bronx, New York and Queens\n",
        "\n",
        "5) Contruct a Bee Swarm Plot to surface the spread of the 'Violent Count' by County from year 1990 to 2016 - just hone in on the following three counties: Bronx, New York and Queens\n",
        "\n",
        "6) Hone in on the data set for the Year 2016. How does the 'Violent Count' and the 'Population' vary together? Construct a scatter plot that plots the 'Violent Count' v/s the Total Population' for each of the 3 Counties. Does the Scatter Plot point to a positive covariance? Now, compute the Covariance.\n",
        "\n",
        "7) Hone in on the data set for the Year 2016. How does the 'Violent Count' and the 'Property Count' vary together? Construct a scatter plot that plots the 'Violent Count' v/s the Total Property Count' for each of the 3 Counties. Does the Scatter Plot point to a positive covariance? Now, compute the Covariance.\n",
        "\n",
        "8) Compute the Correlation Coefficient between the 2 variable i.e. 'Violent Count' and the 'Population' for the county of Bronx\n"
      ]
    }
  ]
}