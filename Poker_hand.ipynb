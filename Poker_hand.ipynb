{
  "nbformat": 4,
  "nbformat_minor": 0,
  "metadata": {
    "colab": {
      "name": "Poker-hand.ipynb",
      "version": "0.3.2",
      "provenance": [],
      "include_colab_link": true
    }
  },
  "cells": [
    {
      "cell_type": "markdown",
      "metadata": {
        "id": "view-in-github",
        "colab_type": "text"
      },
      "source": [
        "[View in Colaboratory](https://colab.research.google.com/github/vinitrg/Machine-Learning/blob/master/Poker_hand.ipynb)"
      ]
    },
    {
      "metadata": {
        "id": "Ki7RQFDoFPXT",
        "colab_type": "code",
        "colab": {}
      },
      "cell_type": "code",
      "source": [
        "import numpy as np\n",
        "import sklearn as skt\n",
        "import pandas as pd\n",
        "import matplotlib.pyplot as plt"
      ],
      "execution_count": 0,
      "outputs": []
    },
    {
      "metadata": {
        "id": "cdkhJTqgFd_e",
        "colab_type": "code",
        "colab": {}
      },
      "cell_type": "code",
      "source": [
        "columns = [\"S1\",\"C1\",\"S2\",\"C2\",\"S3\",\"C3\",\"S4\",\"C4\",\"S5\",\"C5\",\"CLASS\"]\n",
        "test_data = pd.read_csv(\"http://archive.ics.uci.edu/ml/machine-learning-databases/poker/poker-hand-testing.data\",names =columns)\n",
        "train_data = pd.read_csv(\"http://archive.ics.uci.edu/ml/machine-learning-databases/poker/poker-hand-training-true.data\", names = columns)"
      ],
      "execution_count": 0,
      "outputs": []
    },
    {
      "metadata": {
        "id": "OdTOyaTBGIhb",
        "colab_type": "code",
        "colab": {
          "base_uri": "https://localhost:8080/",
          "height": 955
        },
        "outputId": "55fa4659-adff-4920-d763-e8b6bfe579aa"
      },
      "cell_type": "code",
      "source": [
        "def get_redundant_pairs(df):\n",
        "    '''Get diagonal and lower triangular pairs of correlation matrix'''\n",
        "    pairs_to_drop = set()\n",
        "    cols = df.columns\n",
        "    for i in range(0, df.shape[1]):\n",
        "        for j in range(0, i+1):\n",
        "            pairs_to_drop.add((cols[i], cols[j]))\n",
        "    return pairs_to_drop\n",
        "\n",
        "def get_top_abs_correlations(df, n=5):\n",
        "    au_corr = df.corr().abs().unstack()\n",
        "    labels_to_drop = get_redundant_pairs(df)\n",
        "    au_corr = au_corr.drop(labels=labels_to_drop).sort_values(ascending=False)\n",
        "    return au_corr[0:n]\n",
        "\n",
        "\n",
        "# Understanding DataSet by Descriptive Statistics\n",
        "#Training Data :\n",
        "train_data.head()\n",
        "print(\"Shape:\",train_data.shape)\n",
        "print(\"Data types:\", train_data.dtypes)\n",
        "print(\"Top Absolute Correlations\")\n",
        "print(get_top_abs_correlations(train_data, 10))\n",
        "print(train_data.describe())"
      ],
      "execution_count": 25,
      "outputs": [
        {
          "output_type": "stream",
          "text": [
            "('Shape:', (25010, 11))\n",
            "('Data types:', S1       int64\n",
            "C1       int64\n",
            "S2       int64\n",
            "C2       int64\n",
            "S3       int64\n",
            "C3       int64\n",
            "S4       int64\n",
            "C4       int64\n",
            "S5       int64\n",
            "C5       int64\n",
            "CLASS    int64\n",
            "dtype: object)\n",
            "Top Absolute Correlations\n",
            "S3  S5    0.030305\n",
            "S2  S3    0.029306\n",
            "C1  C3    0.026285\n",
            "C2  C3    0.024702\n",
            "S1  S5    0.024167\n",
            "    S2    0.021263\n",
            "S2  S4    0.020960\n",
            "S1  S3    0.019618\n",
            "S4  S5    0.018200\n",
            "S3  C3    0.017942\n",
            "dtype: float64\n",
            "                 S1            C1            S2            C2            S3  \\\n",
            "count  25010.000000  25010.000000  25010.000000  25010.000000  25010.000000   \n",
            "mean       2.508756      6.995242      2.497721      7.014194      2.510236   \n",
            "std        1.116483      3.749805      1.121767      3.766974      1.123148   \n",
            "min        1.000000      1.000000      1.000000      1.000000      1.000000   \n",
            "25%        2.000000      4.000000      1.000000      4.000000      2.000000   \n",
            "50%        3.000000      7.000000      2.000000      7.000000      3.000000   \n",
            "75%        4.000000     10.000000      4.000000     10.000000      4.000000   \n",
            "max        4.000000     13.000000      4.000000     13.000000      4.000000   \n",
            "\n",
            "                 C3            S4            C4            S5            C5  \\\n",
            "count  25010.000000  25010.000000  25010.000000  25010.000000  25010.000000   \n",
            "mean       7.014154      2.495922      6.942463      2.497321      6.962735   \n",
            "std        3.744974      1.116009      3.747147      1.118732      3.741579   \n",
            "min        1.000000      1.000000      1.000000      1.000000      1.000000   \n",
            "25%        4.000000      1.000000      4.000000      1.000000      4.000000   \n",
            "50%        7.000000      2.000000      7.000000      3.000000      7.000000   \n",
            "75%       10.000000      3.000000     10.000000      3.000000     10.000000   \n",
            "max       13.000000      4.000000     13.000000      4.000000     13.000000   \n",
            "\n",
            "              CLASS  \n",
            "count  25010.000000  \n",
            "mean       0.621152  \n",
            "std        0.788361  \n",
            "min        0.000000  \n",
            "25%        0.000000  \n",
            "50%        1.000000  \n",
            "75%        1.000000  \n",
            "max        9.000000  \n"
          ],
          "name": "stdout"
        }
      ]
    },
    {
      "metadata": {
        "id": "nWIypfOD62Mc",
        "colab_type": "code",
        "colab": {
          "base_uri": "https://localhost:8080/",
          "height": 416
        },
        "outputId": "48a4b3ac-4630-490d-a859-6bd2b0f4f027"
      },
      "cell_type": "code",
      "source": [
        "print(train_data[\"C1\"].describe())\n",
        "\n",
        "print(train_data[\"C1\"].value_counts())\n"
      ],
      "execution_count": 26,
      "outputs": [
        {
          "output_type": "stream",
          "text": [
            "count    25010.000000\n",
            "mean         6.995242\n",
            "std          3.749805\n",
            "min          1.000000\n",
            "25%          4.000000\n",
            "50%          7.000000\n",
            "75%         10.000000\n",
            "max         13.000000\n",
            "Name: C1, dtype: float64\n",
            "1     1982\n",
            "9     1967\n",
            "7     1961\n",
            "8     1948\n",
            "2     1941\n",
            "12    1940\n",
            "11    1926\n",
            "4     1919\n",
            "13    1915\n",
            "5     1892\n",
            "3     1882\n",
            "10    1877\n",
            "6     1860\n",
            "Name: C1, dtype: int64\n"
          ],
          "name": "stdout"
        }
      ]
    },
    {
      "metadata": {
        "id": "Qy0V5m7_GTfD",
        "colab_type": "code",
        "colab": {
          "base_uri": "https://localhost:8080/",
          "height": 588
        },
        "outputId": "c84e0132-025a-448b-ddce-599447684b6c"
      },
      "cell_type": "code",
      "source": [
        "#Understanding Data with Visualisation \n",
        "import seaborn as sns\n",
        "train_data.hist()"
      ],
      "execution_count": 9,
      "outputs": [
        {
          "output_type": "execute_result",
          "data": {
            "text/plain": [
              "array([[<matplotlib.axes._subplots.AxesSubplot object at 0x7f335189f350>,\n",
              "        <matplotlib.axes._subplots.AxesSubplot object at 0x7f334d1be7d0>,\n",
              "        <matplotlib.axes._subplots.AxesSubplot object at 0x7f334d0f3350>],\n",
              "       [<matplotlib.axes._subplots.AxesSubplot object at 0x7f334d11a210>,\n",
              "        <matplotlib.axes._subplots.AxesSubplot object at 0x7f334d0b25d0>,\n",
              "        <matplotlib.axes._subplots.AxesSubplot object at 0x7f334d07b390>],\n",
              "       [<matplotlib.axes._subplots.AxesSubplot object at 0x7f334d0a22d0>,\n",
              "        <matplotlib.axes._subplots.AxesSubplot object at 0x7f334d007850>,\n",
              "        <matplotlib.axes._subplots.AxesSubplot object at 0x7f334d059710>],\n",
              "       [<matplotlib.axes._subplots.AxesSubplot object at 0x7f334cf8c6d0>,\n",
              "        <matplotlib.axes._subplots.AxesSubplot object at 0x7f334cf59190>,\n",
              "        <matplotlib.axes._subplots.AxesSubplot object at 0x7f334cf17d10>]],\n",
              "      dtype=object)"
            ]
          },
          "metadata": {
            "tags": []
          },
          "execution_count": 9
        },
        {
          "output_type": "display_data",
          "data": {
            "image/png": "[encoded data removed]",
            "text/plain": [
              "<matplotlib.figure.Figure at 0x7f3352a1c0d0>"
            ]
          },
          "metadata": {
            "tags": []
          }
        }
      ]
    },
    {
      "metadata": {
        "id": "GiFLtXywOG-p",
        "colab_type": "code",
        "colab": {
          "base_uri": "https://localhost:8080/",
          "height": 263
        },
        "outputId": "a6b258e8-9510-40bb-ee0c-1e22f5b30f5b"
      },
      "cell_type": "code",
      "source": [
        "from sklearn.preprocessing import StandardScaler\n",
        "array = train_data.values\n",
        "X = array[:,0:10]\n",
        "Y = array[:,10]\n",
        "\n",
        "scaler = StandardScaler().fit(X)\n",
        "rescaledX = scaler.transform(X)\n",
        "\n",
        "np.set_printoptions(precision=3)\n",
        "print(rescaledX[0:5,:])\n",
        "print(train_data.head())"
      ],
      "execution_count": 6,
      "outputs": [
        {
          "output_type": "stream",
          "text": [
            "[[-1.351  0.801 -1.335  1.058 -1.345  1.598 -1.34   1.35  -1.338 -1.594]\n",
            " [-0.456  1.068 -0.444  1.589 -0.454  0.797 -0.444  1.35  -0.445 -1.594]\n",
            " [ 0.44   1.335  0.448  1.058  0.436  1.598  0.452  0.816  0.449 -1.594]\n",
            " [ 1.336  0.801  1.339  1.058  1.326 -1.606  1.348  1.617  1.343  1.346]\n",
            " [ 1.336 -1.599  1.339  1.589  1.326  1.331  1.348  1.083  1.343  0.812]]\n",
            "   S1  C1  S2  C2  S3  C3  S4  C4  S5  C5  CLASS\n",
            "0   1  10   1  11   1  13   1  12   1   1      9\n",
            "1   2  11   2  13   2  10   2  12   2   1      9\n",
            "2   3  12   3  11   3  13   3  10   3   1      9\n",
            "3   4  10   4  11   4   1   4  13   4  12      9\n",
            "4   4   1   4  13   4  12   4  11   4  10      9\n"
          ],
          "name": "stdout"
        },
        {
          "output_type": "stream",
          "text": [
            "/usr/local/lib/python2.7/dist-packages/sklearn/utils/validation.py:475: DataConversionWarning: Data with input dtype int64 was converted to float64 by StandardScaler.\n",
            "  warnings.warn(msg, DataConversionWarning)\n"
          ],
          "name": "stderr"
        }
      ]
    },
    {
      "metadata": {
        "id": "woNiaMpagzim",
        "colab_type": "code",
        "colab": {
          "base_uri": "https://localhost:8080/",
          "height": 156
        },
        "outputId": "66465434-9547-4801-d59b-4b14be19c33d"
      },
      "cell_type": "code",
      "source": [
        "from sklearn.model_selection import KFold\n",
        "from sklearn.model_selection import cross_val_score\n",
        "from sklearn.linear_model import LogisticRegression\n",
        "\n",
        "X = array[:,0:10]\n",
        "Y = array[:,10]\n",
        "\n",
        "kfold = KFold(n_splits=50)\n",
        "model = LogisticRegression()\n",
        "results = cross_val_score(model, X, Y, cv=kfold)\n",
        "print(\"50-fold Accuracy: %.3f%% (%.3f%%)\") % (results.mean()*100.0, results.std()*100.0)\n",
        "\n",
        "kfold = KFold(n_splits=15, random_state=7)\n",
        "model = LogisticRegression()\n",
        "results = cross_val_score(model, X, Y, cv=kfold)\n",
        "print(results)\n",
        "print(\"15-fold Accuracy: \",results.mean()*100.0, results.std()*100)\n",
        "\n",
        "kfold = KFold(n_splits=5, random_state=7)\n",
        "model = LogisticRegression()\n",
        "results = cross_val_score(model, X, Y, cv=kfold)\n",
        "print(results)\n",
        "print(\" 5-fold Accuracy: %.3f%% (%.3f%%)\") % (results.mean()*100.0, results.std()*100.0)\n",
        "\n",
        "kfold = KFold(n_splits=3, random_state=7)\n",
        "model = LogisticRegression()\n",
        "results = cross_val_score(model, X, Y, cv=kfold)\n",
        "print(\" 3-fold Accuracy: %.3f%% (%.3f%%)\") % (results.mean()*100.0, results.std()*100.0)\n",
        "print(results)"
      ],
      "execution_count": 7,
      "outputs": [
        {
          "output_type": "stream",
          "text": [
            "50-fold Accuracy: 49.952% (2.344%)\n",
            "[0.491 0.489 0.492 0.504 0.502 0.488 0.512 0.51  0.51  0.505 0.485 0.499\n",
            " 0.502 0.5   0.502]\n",
            "('15-fold Accuracy: ', 49.9520959117529, 0.8378231154137014)\n",
            "[0.491 0.498 0.511 0.496 0.501]\n",
            " 5-fold Accuracy: 49.948% (0.679%)\n",
            " 3-fold Accuracy: 49.952% (0.417%)\n",
            "[0.496 0.505 0.497]\n"
          ],
          "name": "stdout"
        }
      ]
    },
    {
      "metadata": {
        "id": "3wFuVBcD18-T",
        "colab_type": "code",
        "colab": {}
      },
      "cell_type": "code",
      "source": [
        ""
      ],
      "execution_count": 0,
      "outputs": []
    }
  ]
}